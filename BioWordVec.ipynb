{
  "nbformat": 4,
  "nbformat_minor": 0,
  "metadata": {
    "colab": {
      "name": "BioWordVec.ipynb",
      "provenance": [],
      "collapsed_sections": [],
      "include_colab_link": true
    },
    "kernelspec": {
      "name": "python3",
      "display_name": "Python 3"
    },
    "accelerator": "GPU"
  },
  "cells": [
    {
      "cell_type": "markdown",
      "metadata": {
        "id": "view-in-github",
        "colab_type": "text"
      },
      "source": [
        "<a href=\"https://colab.research.google.com/github/IshaSharma222/Bio-NER/blob/master/BioWordVec.ipynb\" target=\"_parent\"><img src=\"https://colab.research.google.com/assets/colab-badge.svg\" alt=\"Open In Colab\"/></a>"
      ]
    },
    {
      "cell_type": "code",
      "metadata": {
        "id": "65FQkexlySoT",
        "colab_type": "code",
        "colab": {
          "base_uri": "https://localhost:8080/",
          "height": 202
        },
        "outputId": "e6a8058c-7dc6-48a7-e64d-82d7e8a778c9"
      },
      "source": [
        "!wget https://ftp.ncbi.nlm.nih.gov/pub/lu/Suppl/BioSentVec/BioWordVec_PubMed_MIMICIII_d200.bin"
      ],
      "execution_count": 1,
      "outputs": [
        {
          "output_type": "stream",
          "text": [
            "--2020-08-15 17:10:38--  https://ftp.ncbi.nlm.nih.gov/pub/lu/Suppl/BioSentVec/BioWordVec_PubMed_MIMICIII_d200.bin\n",
            "Resolving ftp.ncbi.nlm.nih.gov (ftp.ncbi.nlm.nih.gov)... 130.14.250.11, 2607:f220:41e:250::7, 2607:f220:41e:250::13, ...\n",
            "Connecting to ftp.ncbi.nlm.nih.gov (ftp.ncbi.nlm.nih.gov)|130.14.250.11|:443... connected.\n",
            "HTTP request sent, awaiting response... 200 OK\n",
            "Length: 28436712568 (26G) [application/octet-stream]\n",
            "Saving to: ‘BioWordVec_PubMed_MIMICIII_d200.bin’\n",
            "\n",
            "BioWordVec_PubMed_M 100%[===================>]  26.48G  13.5MB/s    in 30m 37s \n",
            "\n",
            "2020-08-15 17:41:15 (14.8 MB/s) - ‘BioWordVec_PubMed_MIMICIII_d200.bin’ saved [28436712568/28436712568]\n",
            "\n"
          ],
          "name": "stdout"
        }
      ]
    },
    {
      "cell_type": "code",
      "metadata": {
        "id": "u57sU29N0At5",
        "colab_type": "code",
        "colab": {}
      },
      "source": [
        "from gensim.models import FastText\n",
        "model=FastText.load_fasttext_format('/content/BioWordVec_PubMed_MIMICIII_d200.bin')"
      ],
      "execution_count": null,
      "outputs": []
    },
    {
      "cell_type": "code",
      "metadata": {
        "id": "z6hVYqOiRZ-i",
        "colab_type": "code",
        "colab": {}
      },
      "source": [
        "from gensim.test.utils import datapath, get_tmpfile\n",
        "from gensim.models import KeyedVectors\n",
        "from gensim.scripts.glove2word2vec import glove2word2vec"
      ],
      "execution_count": null,
      "outputs": []
    },
    {
      "cell_type": "code",
      "metadata": {
        "id": "KIjaiTPYN48m",
        "colab_type": "code",
        "colab": {}
      },
      "source": [
        "model.most_similar('coronavirus')"
      ],
      "execution_count": null,
      "outputs": []
    },
    {
      "cell_type": "code",
      "metadata": {
        "id": "xkc3LO_eSno0",
        "colab_type": "code",
        "colab": {}
      },
      "source": [
        "def display_pca_scatterplot(model, words=None, sample=0):\n",
        "    if words == None:\n",
        "        if sample > 0:\n",
        "            words = np.random.choice(list(model.vocab.keys()), sample)\n",
        "        else:\n",
        "            words = [ word for word in model.vocab ]\n",
        "        \n",
        "    word_vectors = np.array([model[w] for w in words])\n",
        "\n",
        "    twodim = PCA().fit_transform(word_vectors)[:,:2]\n",
        "    \n",
        "    plt.figure(figsize=(6,6))\n",
        "    plt.scatter(twodim[:,0], twodim[:,1], edgecolors='k', c='r')\n",
        "    for word, (x,y) in zip(words, twodim):\n",
        "        plt.text(x+0.05, y+0.05, word)"
      ],
      "execution_count": 1,
      "outputs": []
    },
    {
      "cell_type": "code",
      "metadata": {
        "id": "o9BbC2S4SuOl",
        "colab_type": "code",
        "colab": {}
      },
      "source": [
        "display_pca_scatterplot(model, \n",
        "                        ['coronavirus', 'Respiratory', 'SARS', 'Bronchiolitis', 'hepatitis', 'communicaable', 'fever', 'dengue'\n",
        "                        'Pneumonia', 'Mycoplasma', 'Encephalitis','Bacterial','Myotonic', 'nausea', 'hemorrhage', 'immunodeficiency'])"
      ],
      "execution_count": null,
      "outputs": []
    }
  ]
}